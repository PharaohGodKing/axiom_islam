{
  "nbformat": 4,
  "nbformat_minor": 0,
  "metadata": {
    "colab": {
      "provenance": [],
      "authorship_tag": "ABX9TyMYDEm+Xk2SDJzDese2Z2i9",
      "include_colab_link": true
    },
    "kernelspec": {
      "name": "python3",
      "display_name": "Python 3"
    },
    "language_info": {
      "name": "python"
    }
  },
  "cells": [
    {
      "cell_type": "markdown",
      "metadata": {
        "id": "view-in-github",
        "colab_type": "text"
      },
      "source": [
        "<a href=\"https://colab.research.google.com/github/PharaohGodKing/axiom_islam/blob/main/Copy_of_axiom_test.ipynb\" target=\"_parent\"><img src=\"https://colab.research.google.com/assets/colab-badge.svg\" alt=\"Open In Colab\"/></a>"
      ]
    },
    {
      "cell_type": "code",
      "execution_count": null,
      "metadata": {
        "colab": {
          "base_uri": "https://localhost:8080/"
        },
        "collapsed": true,
        "id": "thGfKeytAU8j",
        "outputId": "8ca8e470-4767-4c9f-b3a1-3d54abc6c3da"
      },
      "outputs": [
        {
          "output_type": "stream",
          "name": "stdout",
          "text": [
            "Drive already mounted at /content/drive; to attempt to forcibly remount, call drive.mount(\"/content/drive\", force_remount=True).\n",
            "Google Drive mounted successfully at: /content/drive/MyDrive/(Axiom Islam)AI_systems.py/Axiom Islam System/Axiom Islam \n"
          ]
        }
      ],
      "source": [
        "# Mount Google Drive to access your files\n",
        "from google.colab import drive\n",
        "drive.mount('/content/drive')\n",
        "\n",
        "# Verify the mount point exists\n",
        "import os\n",
        "drive_base_path = '/content/drive/MyDrive/(Axiom Islam)AI_systems.py/Axiom Islam System/Axiom Islam '\n",
        "if not os.path.exists(drive_base_path):\n",
        "  print(\"Error: Google Drive not mounted correctly or MyDrive folder not found.\")\n",
        "else:\n",
        "  print(f\"Google Drive mounted successfully at: {drive_base_path}\")"
      ]
    },
    {
      "cell_type": "code",
      "source": [
        "import os\n",
        "\n",
        "# --- ACTION REQUIRED: Change this path ---\n",
        "project_folder_path = \"/content/drive/MyDrive/(Axiom Islam)AI_systems.py/Axiom Islam System/Axiom Islam \" # e.g., \"Colab Notebooks/AxiomAI\"\n",
        "# --- End Action Required ---\n",
        "\n",
        "full_project_path = os.path.join('/content/drive/MyDrive', project_folder_path)\n",
        "\n",
        "if os.path.exists(full_project_path):\n",
        "  # Change the current directory\n",
        "  %cd \"{full_project_path}\"\n",
        "  print(f\"Changed directory to: {os.getcwd()}\")\n",
        "  # List files to confirm you're in the right place\n",
        "  print(\"\\nFiles in current directory:\")\n",
        "  !ls -l\n",
        "else:\n",
        "  print(f\"Error: The specified project path does not exist: {full_project_path}\")\n",
        "  print(\"Please double-check the 'project_folder_path' variable.\")"
      ],
      "metadata": {
        "colab": {
          "base_uri": "https://localhost:8080/"
        },
        "collapsed": true,
        "id": "kxYo_QlHAZp0",
        "outputId": "d8107169-6a41-439e-d3ba-a4df328458ac"
      },
      "execution_count": null,
      "outputs": [
        {
          "output_type": "stream",
          "name": "stdout",
          "text": [
            "/content/drive/MyDrive/(Axiom Islam)AI_systems.py/Axiom Islam System/Axiom Islam \n",
            "Changed directory to: /content/drive/MyDrive/(Axiom Islam)AI_systems.py/Axiom Islam System/Axiom Islam \n",
            "\n",
            "Files in current directory:\n",
            "total 30\n",
            "-rw------- 1 root root   172 Apr 27 20:05 'Axiom Import link.gdoc'\n",
            "-rw------- 1 root root   172 Apr 27 20:22  AxiomIslam.py.gdoc\n",
            "drwx------ 2 root root  4096 Apr 27 20:00  data_tools\n",
            "-rw------- 1 root root 25259 Apr 27 20:41  run_axiom.py\n"
          ]
        }
      ]
    },
    {
      "cell_type": "code",
      "source": [
        "# Install required libraries\n",
        "!pip install numpy networkx google-generativeai openai transformers torch jax jaxlib flax optax tqdm huggingface_hub pillow --quiet\n",
        "\n",
        "print(\"Required libraries installed or updated.\")\n"
      ],
      "metadata": {
        "colab": {
          "base_uri": "https://localhost:8080/"
        },
        "collapsed": true,
        "id": "I8ot3yxJAi3T",
        "outputId": "fb8d4734-6cf1-4204-a3b2-b44545e8ccce"
      },
      "execution_count": null,
      "outputs": [
        {
          "output_type": "stream",
          "name": "stdout",
          "text": [
            "\u001b[2K   \u001b[90m━━━━━━━━━━━━━━━━━━━━━━━━━━━━━━━━━━━━━━━━\u001b[0m \u001b[32m363.4/363.4 MB\u001b[0m \u001b[31m2.7 MB/s\u001b[0m eta \u001b[36m0:00:00\u001b[0m\n",
            "\u001b[2K   \u001b[90m━━━━━━━━━━━━━━━━━━━━━━━━━━━━━━━━━━━━━━━━\u001b[0m \u001b[32m13.8/13.8 MB\u001b[0m \u001b[31m108.3 MB/s\u001b[0m eta \u001b[36m0:00:00\u001b[0m\n",
            "\u001b[2K   \u001b[90m━━━━━━━━━━━━━━━━━━━━━━━━━━━━━━━━━━━━━━━━\u001b[0m \u001b[32m24.6/24.6 MB\u001b[0m \u001b[31m86.3 MB/s\u001b[0m eta \u001b[36m0:00:00\u001b[0m\n",
            "\u001b[2K   \u001b[90m━━━━━━━━━━━━━━━━━━━━━━━━━━━━━━━━━━━━━━━━\u001b[0m \u001b[32m883.7/883.7 kB\u001b[0m \u001b[31m52.8 MB/s\u001b[0m eta \u001b[36m0:00:00\u001b[0m\n",
            "\u001b[2K   \u001b[90m━━━━━━━━━━━━━━━━━━━━━━━━━━━━━━━━━━━━━━━━\u001b[0m \u001b[32m664.8/664.8 MB\u001b[0m \u001b[31m1.3 MB/s\u001b[0m eta \u001b[36m0:00:00\u001b[0m\n",
            "\u001b[2K   \u001b[90m━━━━━━━━━━━━━━━━━━━━━━━━━━━━━━━━━━━━━━━━\u001b[0m \u001b[32m211.5/211.5 MB\u001b[0m \u001b[31m7.0 MB/s\u001b[0m eta \u001b[36m0:00:00\u001b[0m\n",
            "\u001b[2K   \u001b[90m━━━━━━━━━━━━━━━━━━━━━━━━━━━━━━━━━━━━━━━━\u001b[0m \u001b[32m56.3/56.3 MB\u001b[0m \u001b[31m11.8 MB/s\u001b[0m eta \u001b[36m0:00:00\u001b[0m\n",
            "\u001b[2K   \u001b[90m━━━━━━━━━━━━━━━━━━━━━━━━━━━━━━━━━━━━━━━━\u001b[0m \u001b[32m127.9/127.9 MB\u001b[0m \u001b[31m7.4 MB/s\u001b[0m eta \u001b[36m0:00:00\u001b[0m\n",
            "\u001b[2K   \u001b[90m━━━━━━━━━━━━━━━━━━━━━━━━━━━━━━━━━━━━━━━━\u001b[0m \u001b[32m207.5/207.5 MB\u001b[0m \u001b[31m5.5 MB/s\u001b[0m eta \u001b[36m0:00:00\u001b[0m\n",
            "\u001b[2K   \u001b[90m━━━━━━━━━━━━━━━━━━━━━━━━━━━━━━━━━━━━━━━━\u001b[0m \u001b[32m21.1/21.1 MB\u001b[0m \u001b[31m90.9 MB/s\u001b[0m eta \u001b[36m0:00:00\u001b[0m\n",
            "\u001b[?25hRequired libraries installed or updated.\n"
          ]
        }
      ]
    },
    {
      "cell_type": "code",
      "source": [
        "# Run the main script\n",
        "!python run_axiom.py"
      ],
      "metadata": {
        "colab": {
          "base_uri": "https://localhost:8080/"
        },
        "id": "x56tfhInAnRr",
        "outputId": "65337efb-693c-4335-c5d1-c2ac1642ffd4"
      },
      "execution_count": null,
      "outputs": [
        {
          "output_type": "stream",
          "name": "stdout",
          "text": [
            "  File \"/content/drive/MyDrive/(Axiom Islam)AI_systems.py/Axiom Islam System/Axiom Islam /run_axiom.py\", line 74\n",
            "    except ImportError: class userdata: @staticmethod def get(key, default=None): return default # Dummy\n",
            "                        ^^^^^\n",
            "SyntaxError: invalid syntax\n"
          ]
        }
      ]
    }
  ]
}